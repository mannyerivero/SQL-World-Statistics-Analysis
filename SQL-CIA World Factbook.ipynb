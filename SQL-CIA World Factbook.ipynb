{
 "cells": [
  {
   "cell_type": "markdown",
   "metadata": {},
   "source": [
    "## Introduction"
   ]
  },
  {
   "cell_type": "code",
   "execution_count": 1,
   "metadata": {
    "collapsed": false,
    "jupyter": {
     "outputs_hidden": false
    }
   },
   "outputs": [],
   "source": [
    "%%capture\n",
    "%load_ext sql\n",
    "%sql sqlite:///factbook.db"
   ]
  },
  {
   "cell_type": "markdown",
   "metadata": {},
   "source": [
    "## Overview of the Data\n",
    "\n",
    "The following will display a preview of the data so we can get a feel for it."
   ]
  },
  {
   "cell_type": "code",
   "execution_count": 2,
   "metadata": {
    "collapsed": false,
    "jupyter": {
     "outputs_hidden": false
    }
   },
   "outputs": [
    {
     "name": "stdout",
     "output_type": "stream",
     "text": [
      " * sqlite:///factbook.db\n",
      "Done.\n"
     ]
    },
    {
     "data": {
      "text/html": [
       "<table>\n",
       "    <thead>\n",
       "        <tr>\n",
       "            <th>type</th>\n",
       "            <th>name</th>\n",
       "            <th>tbl_name</th>\n",
       "            <th>rootpage</th>\n",
       "            <th>sql</th>\n",
       "        </tr>\n",
       "    </thead>\n",
       "    <tbody>\n",
       "        <tr>\n",
       "            <td>table</td>\n",
       "            <td>sqlite_sequence</td>\n",
       "            <td>sqlite_sequence</td>\n",
       "            <td>3</td>\n",
       "            <td>CREATE TABLE sqlite_sequence(name,seq)</td>\n",
       "        </tr>\n",
       "        <tr>\n",
       "            <td>table</td>\n",
       "            <td>facts</td>\n",
       "            <td>facts</td>\n",
       "            <td>47</td>\n",
       "            <td>CREATE TABLE &quot;facts&quot; (&quot;id&quot; INTEGER PRIMARY KEY AUTOINCREMENT NOT NULL, &quot;code&quot; varchar(255) NOT NULL, &quot;name&quot; varchar(255) NOT NULL, &quot;area&quot; integer, &quot;area_land&quot; integer, &quot;area_water&quot; integer, &quot;population&quot; integer, &quot;population_growth&quot; float, &quot;birth_rate&quot; float, &quot;death_rate&quot; float, &quot;migration_rate&quot; float)</td>\n",
       "        </tr>\n",
       "    </tbody>\n",
       "</table>"
      ],
      "text/plain": [
       "[('table', 'sqlite_sequence', 'sqlite_sequence', 3, 'CREATE TABLE sqlite_sequence(name,seq)'),\n",
       " ('table', 'facts', 'facts', 47, 'CREATE TABLE \"facts\" (\"id\" INTEGER PRIMARY KEY AUTOINCREMENT NOT NULL, \"code\" varchar(255) NOT NULL, \"name\" varchar(255) NOT NULL, \"area\" integer, \"a ... (4 characters truncated) ... land\" integer, \"area_water\" integer, \"population\" integer, \"population_growth\" float, \"birth_rate\" float, \"death_rate\" float, \"migration_rate\" float)')]"
      ]
     },
     "execution_count": 2,
     "metadata": {},
     "output_type": "execute_result"
    }
   ],
   "source": [
    "%%sql\n",
    "SELECT *\n",
    "  FROM sqlite_master\n",
    " WHERE type='table';"
   ]
  },
  {
   "cell_type": "code",
   "execution_count": 3,
   "metadata": {
    "collapsed": false,
    "jupyter": {
     "outputs_hidden": false
    },
    "scrolled": true
   },
   "outputs": [
    {
     "name": "stdout",
     "output_type": "stream",
     "text": [
      " * sqlite:///factbook.db\n",
      "Done.\n"
     ]
    },
    {
     "data": {
      "text/html": [
       "<table>\n",
       "    <thead>\n",
       "        <tr>\n",
       "            <th>id</th>\n",
       "            <th>code</th>\n",
       "            <th>name</th>\n",
       "            <th>area</th>\n",
       "            <th>area_land</th>\n",
       "            <th>area_water</th>\n",
       "            <th>population</th>\n",
       "            <th>population_growth</th>\n",
       "            <th>birth_rate</th>\n",
       "            <th>death_rate</th>\n",
       "            <th>migration_rate</th>\n",
       "        </tr>\n",
       "    </thead>\n",
       "    <tbody>\n",
       "        <tr>\n",
       "            <td>1</td>\n",
       "            <td>af</td>\n",
       "            <td>Afghanistan</td>\n",
       "            <td>652230</td>\n",
       "            <td>652230</td>\n",
       "            <td>0</td>\n",
       "            <td>32564342</td>\n",
       "            <td>2.32</td>\n",
       "            <td>38.57</td>\n",
       "            <td>13.89</td>\n",
       "            <td>1.51</td>\n",
       "        </tr>\n",
       "        <tr>\n",
       "            <td>2</td>\n",
       "            <td>al</td>\n",
       "            <td>Albania</td>\n",
       "            <td>28748</td>\n",
       "            <td>27398</td>\n",
       "            <td>1350</td>\n",
       "            <td>3029278</td>\n",
       "            <td>0.3</td>\n",
       "            <td>12.92</td>\n",
       "            <td>6.58</td>\n",
       "            <td>3.3</td>\n",
       "        </tr>\n",
       "        <tr>\n",
       "            <td>3</td>\n",
       "            <td>ag</td>\n",
       "            <td>Algeria</td>\n",
       "            <td>2381741</td>\n",
       "            <td>2381741</td>\n",
       "            <td>0</td>\n",
       "            <td>39542166</td>\n",
       "            <td>1.84</td>\n",
       "            <td>23.67</td>\n",
       "            <td>4.31</td>\n",
       "            <td>0.92</td>\n",
       "        </tr>\n",
       "        <tr>\n",
       "            <td>4</td>\n",
       "            <td>an</td>\n",
       "            <td>Andorra</td>\n",
       "            <td>468</td>\n",
       "            <td>468</td>\n",
       "            <td>0</td>\n",
       "            <td>85580</td>\n",
       "            <td>0.12</td>\n",
       "            <td>8.13</td>\n",
       "            <td>6.96</td>\n",
       "            <td>0.0</td>\n",
       "        </tr>\n",
       "        <tr>\n",
       "            <td>5</td>\n",
       "            <td>ao</td>\n",
       "            <td>Angola</td>\n",
       "            <td>1246700</td>\n",
       "            <td>1246700</td>\n",
       "            <td>0</td>\n",
       "            <td>19625353</td>\n",
       "            <td>2.78</td>\n",
       "            <td>38.78</td>\n",
       "            <td>11.49</td>\n",
       "            <td>0.46</td>\n",
       "        </tr>\n",
       "    </tbody>\n",
       "</table>"
      ],
      "text/plain": [
       "[(1, 'af', 'Afghanistan', 652230, 652230, 0, 32564342, 2.32, 38.57, 13.89, 1.51),\n",
       " (2, 'al', 'Albania', 28748, 27398, 1350, 3029278, 0.3, 12.92, 6.58, 3.3),\n",
       " (3, 'ag', 'Algeria', 2381741, 2381741, 0, 39542166, 1.84, 23.67, 4.31, 0.92),\n",
       " (4, 'an', 'Andorra', 468, 468, 0, 85580, 0.12, 8.13, 6.96, 0.0),\n",
       " (5, 'ao', 'Angola', 1246700, 1246700, 0, 19625353, 2.78, 38.78, 11.49, 0.46)]"
      ]
     },
     "execution_count": 3,
     "metadata": {},
     "output_type": "execute_result"
    }
   ],
   "source": [
    "%%sql\n",
    "SELECT *\n",
    "    FROM facts\n",
    " LIMIT 5;"
   ]
  },
  {
   "cell_type": "markdown",
   "metadata": {},
   "source": [
    "Here are the descriptions for some of the columns:\n",
    "\n",
    "* `name` — the name of the country.\n",
    "* `area`— the country's total area (both land and water).\n",
    "* `area_land` — the country's land area in square kilometers.\n",
    "* `area_water` — the country's waterarea in square kilometers.\n",
    "* `population` — the country's population.\n",
    "* `population_growth`— the country's population growth as a percentage.\n",
    "* `birth_rate` — the country's birth rate, or the number of births per year per 1,000 people.\n",
    "* `death_rate` — the country's death rate, or the number of death per year per 1,000 people.\n",
    "\n",
    "Let's start by calculating some summary statistics and look for any outlier countries."
   ]
  },
  {
   "cell_type": "markdown",
   "metadata": {
    "tags": []
   },
   "source": [
    "# Summary Statistics"
   ]
  },
  {
   "cell_type": "code",
   "execution_count": 4,
   "metadata": {
    "collapsed": false,
    "jupyter": {
     "outputs_hidden": false
    }
   },
   "outputs": [
    {
     "name": "stdout",
     "output_type": "stream",
     "text": [
      " * sqlite:///factbook.db\n",
      "Done.\n"
     ]
    },
    {
     "data": {
      "text/html": [
       "<table>\n",
       "    <thead>\n",
       "        <tr>\n",
       "            <th>Minimum Population</th>\n",
       "            <th>Maximum Population</th>\n",
       "            <th>Minimum Population Growth</th>\n",
       "            <th>Maximum Population Growth</th>\n",
       "        </tr>\n",
       "    </thead>\n",
       "    <tbody>\n",
       "        <tr>\n",
       "            <td>0</td>\n",
       "            <td>7256490011</td>\n",
       "            <td>0.0</td>\n",
       "            <td>4.02</td>\n",
       "        </tr>\n",
       "    </tbody>\n",
       "</table>"
      ],
      "text/plain": [
       "[(0, 7256490011, 0.0, 4.02)]"
      ]
     },
     "execution_count": 4,
     "metadata": {},
     "output_type": "execute_result"
    }
   ],
   "source": [
    "%%sql\n",
    "\n",
    "SELECT MIN(population) AS 'Minimum Population', MAX(population) AS 'Maximum Population', \n",
    "MIN(population_growth) AS 'Minimum Population Growth', MAX(population_growth) AS 'Maximum Population Growth'\n",
    "    FROM facts;"
   ]
  },
  {
   "cell_type": "markdown",
   "metadata": {},
   "source": [
    "We see a few interesting things in the summary statistics on the previous screen:\n",
    "\n",
    "There's a country with a population of 0\n",
    "There's a country with a population of 7256490011 (or more than 7.2 billion people)\n",
    "Let's use subqueries to zoom in on just these countries without using the specific values."
   ]
  },
  {
   "cell_type": "markdown",
   "metadata": {},
   "source": [
    "## Exploring Outliers"
   ]
  },
  {
   "cell_type": "code",
   "execution_count": 5,
   "metadata": {
    "collapsed": false,
    "jupyter": {
     "outputs_hidden": false
    }
   },
   "outputs": [
    {
     "name": "stdout",
     "output_type": "stream",
     "text": [
      " * sqlite:///factbook.db\n",
      "Done.\n"
     ]
    },
    {
     "data": {
      "text/html": [
       "<table>\n",
       "    <thead>\n",
       "        <tr>\n",
       "            <th>id</th>\n",
       "            <th>code</th>\n",
       "            <th>name</th>\n",
       "            <th>area</th>\n",
       "            <th>area_land</th>\n",
       "            <th>area_water</th>\n",
       "            <th>population</th>\n",
       "            <th>population_growth</th>\n",
       "            <th>birth_rate</th>\n",
       "            <th>death_rate</th>\n",
       "            <th>migration_rate</th>\n",
       "        </tr>\n",
       "    </thead>\n",
       "    <tbody>\n",
       "        <tr>\n",
       "            <td>250</td>\n",
       "            <td>ay</td>\n",
       "            <td>Antarctica</td>\n",
       "            <td>None</td>\n",
       "            <td>280000</td>\n",
       "            <td>None</td>\n",
       "            <td>0</td>\n",
       "            <td>None</td>\n",
       "            <td>None</td>\n",
       "            <td>None</td>\n",
       "            <td>None</td>\n",
       "        </tr>\n",
       "    </tbody>\n",
       "</table>"
      ],
      "text/plain": [
       "[(250, 'ay', 'Antarctica', None, 280000, None, 0, None, None, None, None)]"
      ]
     },
     "execution_count": 5,
     "metadata": {},
     "output_type": "execute_result"
    }
   ],
   "source": [
    "%%sql\n",
    "\n",
    "SELECT * \n",
    "    FROM facts\n",
    " WHERE population == (SELECT MIN(population) FROM facts);"
   ]
  },
  {
   "cell_type": "code",
   "execution_count": 6,
   "metadata": {
    "collapsed": false,
    "jupyter": {
     "outputs_hidden": false
    },
    "scrolled": true
   },
   "outputs": [
    {
     "name": "stdout",
     "output_type": "stream",
     "text": [
      " * sqlite:///factbook.db\n",
      "Done.\n"
     ]
    },
    {
     "data": {
      "text/html": [
       "<table>\n",
       "    <thead>\n",
       "        <tr>\n",
       "            <th>id</th>\n",
       "            <th>code</th>\n",
       "            <th>name</th>\n",
       "            <th>area</th>\n",
       "            <th>area_land</th>\n",
       "            <th>area_water</th>\n",
       "            <th>population</th>\n",
       "            <th>population_growth</th>\n",
       "            <th>birth_rate</th>\n",
       "            <th>death_rate</th>\n",
       "            <th>migration_rate</th>\n",
       "        </tr>\n",
       "    </thead>\n",
       "    <tbody>\n",
       "        <tr>\n",
       "            <td>261</td>\n",
       "            <td>xx</td>\n",
       "            <td>World</td>\n",
       "            <td>None</td>\n",
       "            <td>None</td>\n",
       "            <td>None</td>\n",
       "            <td>7256490011</td>\n",
       "            <td>1.08</td>\n",
       "            <td>18.6</td>\n",
       "            <td>7.8</td>\n",
       "            <td>None</td>\n",
       "        </tr>\n",
       "    </tbody>\n",
       "</table>"
      ],
      "text/plain": [
       "[(261, 'xx', 'World', None, None, None, 7256490011, 1.08, 18.6, 7.8, None)]"
      ]
     },
     "execution_count": 6,
     "metadata": {},
     "output_type": "execute_result"
    }
   ],
   "source": [
    "%%sql\n",
    "\n",
    "SELECT * \n",
    "    FROM facts\n",
    " WHERE population == (SELECT Max(population) FROM facts);"
   ]
  },
  {
   "cell_type": "markdown",
   "metadata": {},
   "source": [
    "At first glance, one could guess that the 7.2 billion population was referring to the world. In regards to the populaton of 0, this is the continent of Anarctica. The CIA factbook entry on [Antarctica](https://www.cia.gov/the-world-factbook/countries/antarctica/#people-and-society) appears to confirm this fact.\n",
    "\n",
    "\n",
    "![img](data:image/png;base64,iVBORw0KGgoAAAANSUhEUgAAAi4AAAH2CAYAAABXzwcAAAAAAXNSR0IArs4c6QAAAARnQU1BAACx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%0AGUS4CIIgCIKwMohwEQRBEARhRQD4PxzubIbzywpOAAAAAElFTkSuQmCC) "
   ]
  },
  {
   "cell_type": "markdown",
   "metadata": {
    "tags": []
   },
   "source": [
    "## Maximum and Minimum Population"
   ]
  },
  {
   "cell_type": "code",
   "execution_count": 7,
   "metadata": {
    "collapsed": false,
    "jupyter": {
     "outputs_hidden": false
    }
   },
   "outputs": [
    {
     "name": "stdout",
     "output_type": "stream",
     "text": [
      " * sqlite:///factbook.db\n",
      "Done.\n"
     ]
    },
    {
     "data": {
      "text/html": [
       "<table>\n",
       "    <thead>\n",
       "        <tr>\n",
       "            <th>Minimum Population</th>\n",
       "            <th>Maximum Population</th>\n",
       "            <th>Minimum Population Growth</th>\n",
       "            <th>Maximum Population Growth</th>\n",
       "        </tr>\n",
       "    </thead>\n",
       "    <tbody>\n",
       "        <tr>\n",
       "            <td>0</td>\n",
       "            <td>1367485388</td>\n",
       "            <td>0.0</td>\n",
       "            <td>4.02</td>\n",
       "        </tr>\n",
       "    </tbody>\n",
       "</table>"
      ],
      "text/plain": [
       "[(0, 1367485388, 0.0, 4.02)]"
      ]
     },
     "execution_count": 7,
     "metadata": {},
     "output_type": "execute_result"
    }
   ],
   "source": [
    "%%sql\n",
    "\n",
    "SELECT MIN(population) AS 'Minimum Population', \n",
    "MAX(population) AS 'Maximum Population', \n",
    "MIN(population_growth) AS 'Minimum Population Growth', \n",
    "MAX(population_growth) AS 'Maximum Population Growth'\n",
    "    FROM facts\n",
    "    WHERE name <> 'World';"
   ]
  },
  {
   "cell_type": "markdown",
   "metadata": {
    "tags": []
   },
   "source": [
    "## Average Population and Average Area"
   ]
  },
  {
   "cell_type": "code",
   "execution_count": 8,
   "metadata": {
    "collapsed": false,
    "jupyter": {
     "outputs_hidden": false
    }
   },
   "outputs": [
    {
     "name": "stdout",
     "output_type": "stream",
     "text": [
      " * sqlite:///factbook.db\n",
      "Done.\n"
     ]
    },
    {
     "data": {
      "text/html": [
       "<table>\n",
       "    <thead>\n",
       "        <tr>\n",
       "            <th>Avg_pop</th>\n",
       "            <th>Avg_area</th>\n",
       "        </tr>\n",
       "    </thead>\n",
       "    <tbody>\n",
       "        <tr>\n",
       "            <td>32242666.56846473</td>\n",
       "            <td>555093.546184739</td>\n",
       "        </tr>\n",
       "    </tbody>\n",
       "</table>"
      ],
      "text/plain": [
       "[(32242666.56846473, 555093.546184739)]"
      ]
     },
     "execution_count": 8,
     "metadata": {},
     "output_type": "execute_result"
    }
   ],
   "source": [
    "%%sql\n",
    "SELECT AVG(population) as Avg_pop, AVG(area) as Avg_area\n",
    "    FROM facts\n",
    "    WHERE name <> 'World';"
   ]
  },
  {
   "cell_type": "code",
   "execution_count": 9,
   "metadata": {
    "collapsed": false,
    "jupyter": {
     "outputs_hidden": false
    }
   },
   "outputs": [
    {
     "name": "stdout",
     "output_type": "stream",
     "text": [
      " * sqlite:///factbook.db\n",
      "Done.\n"
     ]
    },
    {
     "data": {
      "text/html": [
       "<table>\n",
       "    <thead>\n",
       "        <tr>\n",
       "            <th>id</th>\n",
       "            <th>code</th>\n",
       "            <th>name</th>\n",
       "            <th>area</th>\n",
       "            <th>area_land</th>\n",
       "            <th>area_water</th>\n",
       "            <th>population</th>\n",
       "            <th>population_growth</th>\n",
       "            <th>birth_rate</th>\n",
       "            <th>death_rate</th>\n",
       "            <th>migration_rate</th>\n",
       "        </tr>\n",
       "    </thead>\n",
       "    <tbody>\n",
       "        <tr>\n",
       "            <td>14</td>\n",
       "            <td>bg</td>\n",
       "            <td>Bangladesh</td>\n",
       "            <td>148460</td>\n",
       "            <td>130170</td>\n",
       "            <td>18290</td>\n",
       "            <td>168957745</td>\n",
       "            <td>1.6</td>\n",
       "            <td>21.14</td>\n",
       "            <td>5.61</td>\n",
       "            <td>0.46</td>\n",
       "        </tr>\n",
       "        <tr>\n",
       "            <td>65</td>\n",
       "            <td>gm</td>\n",
       "            <td>Germany</td>\n",
       "            <td>357022</td>\n",
       "            <td>348672</td>\n",
       "            <td>8350</td>\n",
       "            <td>80854408</td>\n",
       "            <td>0.17</td>\n",
       "            <td>8.47</td>\n",
       "            <td>11.42</td>\n",
       "            <td>1.24</td>\n",
       "        </tr>\n",
       "        <tr>\n",
       "            <td>80</td>\n",
       "            <td>iz</td>\n",
       "            <td>Iraq</td>\n",
       "            <td>438317</td>\n",
       "            <td>437367</td>\n",
       "            <td>950</td>\n",
       "            <td>37056169</td>\n",
       "            <td>2.93</td>\n",
       "            <td>31.45</td>\n",
       "            <td>3.77</td>\n",
       "            <td>1.62</td>\n",
       "        </tr>\n",
       "        <tr>\n",
       "            <td>83</td>\n",
       "            <td>it</td>\n",
       "            <td>Italy</td>\n",
       "            <td>301340</td>\n",
       "            <td>294140</td>\n",
       "            <td>7200</td>\n",
       "            <td>61855120</td>\n",
       "            <td>0.27</td>\n",
       "            <td>8.74</td>\n",
       "            <td>10.19</td>\n",
       "            <td>4.1</td>\n",
       "        </tr>\n",
       "        <tr>\n",
       "            <td>85</td>\n",
       "            <td>ja</td>\n",
       "            <td>Japan</td>\n",
       "            <td>377915</td>\n",
       "            <td>364485</td>\n",
       "            <td>13430</td>\n",
       "            <td>126919659</td>\n",
       "            <td>0.16</td>\n",
       "            <td>7.93</td>\n",
       "            <td>9.51</td>\n",
       "            <td>0.0</td>\n",
       "        </tr>\n",
       "        <tr>\n",
       "            <td>91</td>\n",
       "            <td>ks</td>\n",
       "            <td>Korea, South</td>\n",
       "            <td>99720</td>\n",
       "            <td>96920</td>\n",
       "            <td>2800</td>\n",
       "            <td>49115196</td>\n",
       "            <td>0.14</td>\n",
       "            <td>8.19</td>\n",
       "            <td>6.75</td>\n",
       "            <td>0.0</td>\n",
       "        </tr>\n",
       "        <tr>\n",
       "            <td>120</td>\n",
       "            <td>mo</td>\n",
       "            <td>Morocco</td>\n",
       "            <td>446550</td>\n",
       "            <td>446300</td>\n",
       "            <td>250</td>\n",
       "            <td>33322699</td>\n",
       "            <td>1.0</td>\n",
       "            <td>18.2</td>\n",
       "            <td>4.81</td>\n",
       "            <td>3.36</td>\n",
       "        </tr>\n",
       "        <tr>\n",
       "            <td>138</td>\n",
       "            <td>rp</td>\n",
       "            <td>Philippines</td>\n",
       "            <td>300000</td>\n",
       "            <td>298170</td>\n",
       "            <td>1830</td>\n",
       "            <td>100998376</td>\n",
       "            <td>1.61</td>\n",
       "            <td>24.27</td>\n",
       "            <td>6.11</td>\n",
       "            <td>2.09</td>\n",
       "        </tr>\n",
       "        <tr>\n",
       "            <td>139</td>\n",
       "            <td>pl</td>\n",
       "            <td>Poland</td>\n",
       "            <td>312685</td>\n",
       "            <td>304255</td>\n",
       "            <td>8430</td>\n",
       "            <td>38562189</td>\n",
       "            <td>0.09</td>\n",
       "            <td>9.74</td>\n",
       "            <td>10.19</td>\n",
       "            <td>0.46</td>\n",
       "        </tr>\n",
       "        <tr>\n",
       "            <td>163</td>\n",
       "            <td>sp</td>\n",
       "            <td>Spain</td>\n",
       "            <td>505370</td>\n",
       "            <td>498980</td>\n",
       "            <td>6390</td>\n",
       "            <td>48146134</td>\n",
       "            <td>0.89</td>\n",
       "            <td>9.64</td>\n",
       "            <td>9.04</td>\n",
       "            <td>8.31</td>\n",
       "        </tr>\n",
       "        <tr>\n",
       "            <td>173</td>\n",
       "            <td>th</td>\n",
       "            <td>Thailand</td>\n",
       "            <td>513120</td>\n",
       "            <td>510890</td>\n",
       "            <td>2230</td>\n",
       "            <td>67976405</td>\n",
       "            <td>0.34</td>\n",
       "            <td>11.19</td>\n",
       "            <td>7.8</td>\n",
       "            <td>0.0</td>\n",
       "        </tr>\n",
       "        <tr>\n",
       "            <td>182</td>\n",
       "            <td>ug</td>\n",
       "            <td>Uganda</td>\n",
       "            <td>241038</td>\n",
       "            <td>197100</td>\n",
       "            <td>43938</td>\n",
       "            <td>37101745</td>\n",
       "            <td>3.24</td>\n",
       "            <td>43.79</td>\n",
       "            <td>10.69</td>\n",
       "            <td>0.74</td>\n",
       "        </tr>\n",
       "        <tr>\n",
       "            <td>185</td>\n",
       "            <td>uk</td>\n",
       "            <td>United Kingdom</td>\n",
       "            <td>243610</td>\n",
       "            <td>241930</td>\n",
       "            <td>1680</td>\n",
       "            <td>64088222</td>\n",
       "            <td>0.54</td>\n",
       "            <td>12.17</td>\n",
       "            <td>9.35</td>\n",
       "            <td>2.54</td>\n",
       "        </tr>\n",
       "        <tr>\n",
       "            <td>192</td>\n",
       "            <td>vm</td>\n",
       "            <td>Vietnam</td>\n",
       "            <td>331210</td>\n",
       "            <td>310070</td>\n",
       "            <td>21140</td>\n",
       "            <td>94348835</td>\n",
       "            <td>0.97</td>\n",
       "            <td>15.96</td>\n",
       "            <td>5.93</td>\n",
       "            <td>0.3</td>\n",
       "        </tr>\n",
       "    </tbody>\n",
       "</table>"
      ],
      "text/plain": [
       "[(14, 'bg', 'Bangladesh', 148460, 130170, 18290, 168957745, 1.6, 21.14, 5.61, 0.46),\n",
       " (65, 'gm', 'Germany', 357022, 348672, 8350, 80854408, 0.17, 8.47, 11.42, 1.24),\n",
       " (80, 'iz', 'Iraq', 438317, 437367, 950, 37056169, 2.93, 31.45, 3.77, 1.62),\n",
       " (83, 'it', 'Italy', 301340, 294140, 7200, 61855120, 0.27, 8.74, 10.19, 4.1),\n",
       " (85, 'ja', 'Japan', 377915, 364485, 13430, 126919659, 0.16, 7.93, 9.51, 0.0),\n",
       " (91, 'ks', 'Korea, South', 99720, 96920, 2800, 49115196, 0.14, 8.19, 6.75, 0.0),\n",
       " (120, 'mo', 'Morocco', 446550, 446300, 250, 33322699, 1.0, 18.2, 4.81, 3.36),\n",
       " (138, 'rp', 'Philippines', 300000, 298170, 1830, 100998376, 1.61, 24.27, 6.11, 2.09),\n",
       " (139, 'pl', 'Poland', 312685, 304255, 8430, 38562189, 0.09, 9.74, 10.19, 0.46),\n",
       " (163, 'sp', 'Spain', 505370, 498980, 6390, 48146134, 0.89, 9.64, 9.04, 8.31),\n",
       " (173, 'th', 'Thailand', 513120, 510890, 2230, 67976405, 0.34, 11.19, 7.8, 0.0),\n",
       " (182, 'ug', 'Uganda', 241038, 197100, 43938, 37101745, 3.24, 43.79, 10.69, 0.74),\n",
       " (185, 'uk', 'United Kingdom', 243610, 241930, 1680, 64088222, 0.54, 12.17, 9.35, 2.54),\n",
       " (192, 'vm', 'Vietnam', 331210, 310070, 21140, 94348835, 0.97, 15.96, 5.93, 0.3)]"
      ]
     },
     "execution_count": 9,
     "metadata": {},
     "output_type": "execute_result"
    }
   ],
   "source": [
    "%%sql\n",
    "\n",
    "SELECT *\n",
    "    FROM facts\n",
    "    WHERE population > (SELECT AVG(population) FROM facts WHERE name <> 'World') AND \n",
    "    area < (SELECT AVG(area) FROM facts WHERE name <> 'World');\n"
   ]
  },
  {
   "cell_type": "markdown",
   "metadata": {},
   "source": [
    "## Country with Highest Population"
   ]
  },
  {
   "cell_type": "code",
   "execution_count": 10,
   "metadata": {
    "collapsed": false,
    "jupyter": {
     "outputs_hidden": false
    }
   },
   "outputs": [
    {
     "name": "stdout",
     "output_type": "stream",
     "text": [
      " * sqlite:///factbook.db\n",
      "Done.\n"
     ]
    },
    {
     "data": {
      "text/html": [
       "<table>\n",
       "    <thead>\n",
       "        <tr>\n",
       "            <th>name</th>\n",
       "            <th>Highest_Population</th>\n",
       "        </tr>\n",
       "    </thead>\n",
       "    <tbody>\n",
       "        <tr>\n",
       "            <td>China</td>\n",
       "            <td>1367485388</td>\n",
       "        </tr>\n",
       "    </tbody>\n",
       "</table>"
      ],
      "text/plain": [
       "[('China', 1367485388)]"
      ]
     },
     "execution_count": 10,
     "metadata": {},
     "output_type": "execute_result"
    }
   ],
   "source": [
    "%%sql\n",
    "\n",
    "SELECT name, MAX(population) as Highest_Population\n",
    "    FROM facts\n",
    "    WHERE name <> 'World';  "
   ]
  },
  {
   "cell_type": "markdown",
   "metadata": {},
   "source": [
    "## Country with Highest Population Growth"
   ]
  },
  {
   "cell_type": "code",
   "execution_count": 11,
   "metadata": {
    "collapsed": false,
    "jupyter": {
     "outputs_hidden": false
    }
   },
   "outputs": [
    {
     "name": "stdout",
     "output_type": "stream",
     "text": [
      " * sqlite:///factbook.db\n",
      "Done.\n"
     ]
    },
    {
     "data": {
      "text/html": [
       "<table>\n",
       "    <thead>\n",
       "        <tr>\n",
       "            <th>name</th>\n",
       "            <th>Highest_Population_Growth</th>\n",
       "        </tr>\n",
       "    </thead>\n",
       "    <tbody>\n",
       "        <tr>\n",
       "            <td>South Sudan</td>\n",
       "            <td>4.02</td>\n",
       "        </tr>\n",
       "    </tbody>\n",
       "</table>"
      ],
      "text/plain": [
       "[('South Sudan', 4.02)]"
      ]
     },
     "execution_count": 11,
     "metadata": {},
     "output_type": "execute_result"
    }
   ],
   "source": [
    "%%sql\n",
    "\n",
    "SELECT name, MAX(population_growth) as Highest_Population_Growth\n",
    "    FROM facts\n",
    "    WHERE name <> 'World';"
   ]
  },
  {
   "cell_type": "markdown",
   "metadata": {},
   "source": [
    "## Water to land ratio"
   ]
  },
  {
   "cell_type": "code",
   "execution_count": 12,
   "metadata": {
    "collapsed": false,
    "jupyter": {
     "outputs_hidden": false
    }
   },
   "outputs": [
    {
     "name": "stdout",
     "output_type": "stream",
     "text": [
      " * sqlite:///factbook.db\n",
      "Done.\n"
     ]
    },
    {
     "data": {
      "text/html": [
       "<table>\n",
       "    <thead>\n",
       "        <tr>\n",
       "            <th>name</th>\n",
       "            <th>water_land_ratio</th>\n",
       "        </tr>\n",
       "    </thead>\n",
       "    <tbody>\n",
       "        <tr>\n",
       "            <td>British Indian Ocean Territory</td>\n",
       "            <td>905.67</td>\n",
       "        </tr>\n",
       "        <tr>\n",
       "            <td>Virgin Islands</td>\n",
       "            <td>4.52</td>\n",
       "        </tr>\n",
       "        <tr>\n",
       "            <td>Puerto Rico</td>\n",
       "            <td>0.55</td>\n",
       "        </tr>\n",
       "        <tr>\n",
       "            <td>Bahamas, The</td>\n",
       "            <td>0.39</td>\n",
       "        </tr>\n",
       "        <tr>\n",
       "            <td>Guinea-Bissau</td>\n",
       "            <td>0.28</td>\n",
       "        </tr>\n",
       "        <tr>\n",
       "            <td>Malawi</td>\n",
       "            <td>0.26</td>\n",
       "        </tr>\n",
       "        <tr>\n",
       "            <td>Netherlands</td>\n",
       "            <td>0.23</td>\n",
       "        </tr>\n",
       "        <tr>\n",
       "            <td>Uganda</td>\n",
       "            <td>0.22</td>\n",
       "        </tr>\n",
       "        <tr>\n",
       "            <td>Eritrea</td>\n",
       "            <td>0.16</td>\n",
       "        </tr>\n",
       "        <tr>\n",
       "            <td>Liberia</td>\n",
       "            <td>0.16</td>\n",
       "        </tr>\n",
       "    </tbody>\n",
       "</table>"
      ],
      "text/plain": [
       "[('British Indian Ocean Territory', 905.67),\n",
       " ('Virgin Islands', 4.52),\n",
       " ('Puerto Rico', 0.55),\n",
       " ('Bahamas, The', 0.39),\n",
       " ('Guinea-Bissau', 0.28),\n",
       " ('Malawi', 0.26),\n",
       " ('Netherlands', 0.23),\n",
       " ('Uganda', 0.22),\n",
       " ('Eritrea', 0.16),\n",
       " ('Liberia', 0.16)]"
      ]
     },
     "execution_count": 12,
     "metadata": {},
     "output_type": "execute_result"
    }
   ],
   "source": [
    "%%sql\n",
    "\n",
    "SELECT name, ROUND(CAST(area_water as Float) / CAST(area_land as Float), 2) as water_land_ratio\n",
    "    FROM facts\n",
    "    WHERE name <> 'World'\n",
    "    ORDER BY water_land_ratio DESC\n",
    "    LIMIT 10;"
   ]
  },
  {
   "cell_type": "markdown",
   "metadata": {},
   "source": [
    "## Land to water ratio"
   ]
  },
  {
   "cell_type": "code",
   "execution_count": 13,
   "metadata": {
    "collapsed": false,
    "jupyter": {
     "outputs_hidden": false
    }
   },
   "outputs": [
    {
     "name": "stdout",
     "output_type": "stream",
     "text": [
      " * sqlite:///factbook.db\n",
      "Done.\n"
     ]
    },
    {
     "data": {
      "text/html": [
       "<table>\n",
       "    <thead>\n",
       "        <tr>\n",
       "            <th>name</th>\n",
       "            <th>land_to_water_ratio</th>\n",
       "        </tr>\n",
       "    </thead>\n",
       "    <tbody>\n",
       "        <tr>\n",
       "            <td>Bosnia and Herzegovina</td>\n",
       "            <td>5118.7</td>\n",
       "        </tr>\n",
       "        <tr>\n",
       "            <td>Niger</td>\n",
       "            <td>4222.33</td>\n",
       "        </tr>\n",
       "        <tr>\n",
       "            <td>Morocco</td>\n",
       "            <td>1785.2</td>\n",
       "        </tr>\n",
       "        <tr>\n",
       "            <td>Guinea</td>\n",
       "            <td>1755.12</td>\n",
       "        </tr>\n",
       "        <tr>\n",
       "            <td>Costa Rica</td>\n",
       "            <td>1276.5</td>\n",
       "        </tr>\n",
       "        <tr>\n",
       "            <td>Djibouti</td>\n",
       "            <td>1159.0</td>\n",
       "        </tr>\n",
       "        <tr>\n",
       "            <td>Korea, North</td>\n",
       "            <td>926.22</td>\n",
       "        </tr>\n",
       "        <tr>\n",
       "            <td>Cyprus</td>\n",
       "            <td>924.1</td>\n",
       "        </tr>\n",
       "        <tr>\n",
       "            <td>Namibia</td>\n",
       "            <td>821.65</td>\n",
       "        </tr>\n",
       "        <tr>\n",
       "            <td>Burkina Faso</td>\n",
       "            <td>684.5</td>\n",
       "        </tr>\n",
       "    </tbody>\n",
       "</table>"
      ],
      "text/plain": [
       "[('Bosnia and Herzegovina', 5118.7),\n",
       " ('Niger', 4222.33),\n",
       " ('Morocco', 1785.2),\n",
       " ('Guinea', 1755.12),\n",
       " ('Costa Rica', 1276.5),\n",
       " ('Djibouti', 1159.0),\n",
       " ('Korea, North', 926.22),\n",
       " ('Cyprus', 924.1),\n",
       " ('Namibia', 821.65),\n",
       " ('Burkina Faso', 684.5)]"
      ]
     },
     "execution_count": 13,
     "metadata": {},
     "output_type": "execute_result"
    }
   ],
   "source": [
    "%%sql\n",
    "\n",
    "SELECT name, ROUND(CAST(area_land as Float) / CAST(area_water as Float), 2) as \n",
    "land_to_water_ratio\n",
    "    FROM facts\n",
    "    WHERE name <> 'World'\n",
    "    ORDER BY land_to_water_ratio DESC\n",
    "    LIMIT 10;"
   ]
  },
  {
   "cell_type": "markdown",
   "metadata": {},
   "source": [
    "## Countries with a death rate greater than their birth rate\n",
    "\n",
    "The countries below are listed in descending order by death rate. "
   ]
  },
  {
   "cell_type": "code",
   "execution_count": 14,
   "metadata": {
    "tags": []
   },
   "outputs": [
    {
     "name": "stdout",
     "output_type": "stream",
     "text": [
      " * sqlite:///factbook.db\n",
      "Done.\n"
     ]
    },
    {
     "data": {
      "text/html": [
       "<table>\n",
       "    <thead>\n",
       "        <tr>\n",
       "            <th>country_name</th>\n",
       "            <th>birth_rate</th>\n",
       "            <th>death_rate</th>\n",
       "        </tr>\n",
       "    </thead>\n",
       "    <tbody>\n",
       "        <tr>\n",
       "            <td>Ukraine</td>\n",
       "            <td>10.72</td>\n",
       "            <td>14.46</td>\n",
       "        </tr>\n",
       "        <tr>\n",
       "            <td>Bulgaria</td>\n",
       "            <td>8.92</td>\n",
       "            <td>14.44</td>\n",
       "        </tr>\n",
       "        <tr>\n",
       "            <td>Latvia</td>\n",
       "            <td>10.0</td>\n",
       "            <td>14.31</td>\n",
       "        </tr>\n",
       "        <tr>\n",
       "            <td>Lithuania</td>\n",
       "            <td>10.1</td>\n",
       "            <td>14.27</td>\n",
       "        </tr>\n",
       "        <tr>\n",
       "            <td>Russia</td>\n",
       "            <td>11.6</td>\n",
       "            <td>13.69</td>\n",
       "        </tr>\n",
       "        <tr>\n",
       "            <td>Serbia</td>\n",
       "            <td>9.08</td>\n",
       "            <td>13.66</td>\n",
       "        </tr>\n",
       "        <tr>\n",
       "            <td>Belarus</td>\n",
       "            <td>10.7</td>\n",
       "            <td>13.36</td>\n",
       "        </tr>\n",
       "        <tr>\n",
       "            <td>Hungary</td>\n",
       "            <td>9.16</td>\n",
       "            <td>12.73</td>\n",
       "        </tr>\n",
       "        <tr>\n",
       "            <td>Moldova</td>\n",
       "            <td>12.0</td>\n",
       "            <td>12.59</td>\n",
       "        </tr>\n",
       "        <tr>\n",
       "            <td>Estonia</td>\n",
       "            <td>10.51</td>\n",
       "            <td>12.4</td>\n",
       "        </tr>\n",
       "        <tr>\n",
       "            <td>Croatia</td>\n",
       "            <td>9.45</td>\n",
       "            <td>12.18</td>\n",
       "        </tr>\n",
       "        <tr>\n",
       "            <td>Romania</td>\n",
       "            <td>9.14</td>\n",
       "            <td>11.9</td>\n",
       "        </tr>\n",
       "        <tr>\n",
       "            <td>Germany</td>\n",
       "            <td>8.47</td>\n",
       "            <td>11.42</td>\n",
       "        </tr>\n",
       "        <tr>\n",
       "            <td>Slovenia</td>\n",
       "            <td>8.42</td>\n",
       "            <td>11.37</td>\n",
       "        </tr>\n",
       "        <tr>\n",
       "            <td>Greece</td>\n",
       "            <td>8.66</td>\n",
       "            <td>11.09</td>\n",
       "        </tr>\n",
       "        <tr>\n",
       "            <td>Portugal</td>\n",
       "            <td>9.27</td>\n",
       "            <td>11.02</td>\n",
       "        </tr>\n",
       "        <tr>\n",
       "            <td>Czech Republic</td>\n",
       "            <td>9.63</td>\n",
       "            <td>10.34</td>\n",
       "        </tr>\n",
       "        <tr>\n",
       "            <td>Italy</td>\n",
       "            <td>8.74</td>\n",
       "            <td>10.19</td>\n",
       "        </tr>\n",
       "        <tr>\n",
       "            <td>Poland</td>\n",
       "            <td>9.74</td>\n",
       "            <td>10.19</td>\n",
       "        </tr>\n",
       "        <tr>\n",
       "            <td>Bosnia and Herzegovina</td>\n",
       "            <td>8.87</td>\n",
       "            <td>9.75</td>\n",
       "        </tr>\n",
       "        <tr>\n",
       "            <td>Saint Pierre and Miquelon</td>\n",
       "            <td>7.42</td>\n",
       "            <td>9.72</td>\n",
       "        </tr>\n",
       "        <tr>\n",
       "            <td>Japan</td>\n",
       "            <td>7.93</td>\n",
       "            <td>9.51</td>\n",
       "        </tr>\n",
       "        <tr>\n",
       "            <td>Austria</td>\n",
       "            <td>9.41</td>\n",
       "            <td>9.42</td>\n",
       "        </tr>\n",
       "        <tr>\n",
       "            <td>Monaco</td>\n",
       "            <td>6.65</td>\n",
       "            <td>9.24</td>\n",
       "        </tr>\n",
       "    </tbody>\n",
       "</table>"
      ],
      "text/plain": [
       "[('Ukraine', 10.72, 14.46),\n",
       " ('Bulgaria', 8.92, 14.44),\n",
       " ('Latvia', 10.0, 14.31),\n",
       " ('Lithuania', 10.1, 14.27),\n",
       " ('Russia', 11.6, 13.69),\n",
       " ('Serbia', 9.08, 13.66),\n",
       " ('Belarus', 10.7, 13.36),\n",
       " ('Hungary', 9.16, 12.73),\n",
       " ('Moldova', 12.0, 12.59),\n",
       " ('Estonia', 10.51, 12.4),\n",
       " ('Croatia', 9.45, 12.18),\n",
       " ('Romania', 9.14, 11.9),\n",
       " ('Germany', 8.47, 11.42),\n",
       " ('Slovenia', 8.42, 11.37),\n",
       " ('Greece', 8.66, 11.09),\n",
       " ('Portugal', 9.27, 11.02),\n",
       " ('Czech Republic', 9.63, 10.34),\n",
       " ('Italy', 8.74, 10.19),\n",
       " ('Poland', 9.74, 10.19),\n",
       " ('Bosnia and Herzegovina', 8.87, 9.75),\n",
       " ('Saint Pierre and Miquelon', 7.42, 9.72),\n",
       " ('Japan', 7.93, 9.51),\n",
       " ('Austria', 9.41, 9.42),\n",
       " ('Monaco', 6.65, 9.24)]"
      ]
     },
     "execution_count": 14,
     "metadata": {},
     "output_type": "execute_result"
    }
   ],
   "source": [
    "%%sql\n",
    "\n",
    "SELECT name as country_name, birth_rate, death_rate\n",
    "    FROM facts\n",
    "    WHERE death_rate > birth_rate\n",
    "    ORDER BY death_rate DESC;"
   ]
  },
  {
   "cell_type": "markdown",
   "metadata": {},
   "source": [
    "## Exploring Average Population and Area\n",
    "\n",
    "Let's explore density. Density depends on the population and the country's area. Let's look at the average values for these two columns.\n",
    "\n",
    "We should take care of discarding the row for the whole planet."
   ]
  },
  {
   "cell_type": "code",
   "execution_count": 15,
   "metadata": {},
   "outputs": [
    {
     "name": "stdout",
     "output_type": "stream",
     "text": [
      " * sqlite:///factbook.db\n",
      "Done.\n"
     ]
    },
    {
     "data": {
      "text/html": [
       "<table>\n",
       "    <thead>\n",
       "        <tr>\n",
       "            <th>avg_population</th>\n",
       "            <th>avg_area</th>\n",
       "        </tr>\n",
       "    </thead>\n",
       "    <tbody>\n",
       "        <tr>\n",
       "            <td>32242666.56846473</td>\n",
       "            <td>555093.546184739</td>\n",
       "        </tr>\n",
       "    </tbody>\n",
       "</table>"
      ],
      "text/plain": [
       "[(32242666.56846473, 555093.546184739)]"
      ]
     },
     "execution_count": 15,
     "metadata": {},
     "output_type": "execute_result"
    }
   ],
   "source": [
    "%%sql\n",
    "SELECT AVG(population) AS avg_population, AVG(area) AS avg_area\n",
    "  FROM facts\n",
    " WHERE name <> 'World';"
   ]
  },
  {
   "cell_type": "markdown",
   "metadata": {},
   "source": [
    "## Finding Densely Populated Countries\n",
    "\n",
    "To finish, we'll build on the query above to find countries that are densely populated. We'll identify countries that have:\n",
    "\n",
    "Above average values for population.\n",
    "Below average values for area."
   ]
  },
  {
   "cell_type": "code",
   "execution_count": 16,
   "metadata": {},
   "outputs": [
    {
     "name": "stdout",
     "output_type": "stream",
     "text": [
      " * sqlite:///factbook.db\n",
      "Done.\n"
     ]
    },
    {
     "data": {
      "text/html": [
       "<table>\n",
       "    <thead>\n",
       "        <tr>\n",
       "            <th>id</th>\n",
       "            <th>code</th>\n",
       "            <th>name</th>\n",
       "            <th>area</th>\n",
       "            <th>area_land</th>\n",
       "            <th>area_water</th>\n",
       "            <th>population</th>\n",
       "            <th>population_growth</th>\n",
       "            <th>birth_rate</th>\n",
       "            <th>death_rate</th>\n",
       "            <th>migration_rate</th>\n",
       "        </tr>\n",
       "    </thead>\n",
       "    <tbody>\n",
       "        <tr>\n",
       "            <td>14</td>\n",
       "            <td>bg</td>\n",
       "            <td>Bangladesh</td>\n",
       "            <td>148460</td>\n",
       "            <td>130170</td>\n",
       "            <td>18290</td>\n",
       "            <td>168957745</td>\n",
       "            <td>1.6</td>\n",
       "            <td>21.14</td>\n",
       "            <td>5.61</td>\n",
       "            <td>0.46</td>\n",
       "        </tr>\n",
       "        <tr>\n",
       "            <td>65</td>\n",
       "            <td>gm</td>\n",
       "            <td>Germany</td>\n",
       "            <td>357022</td>\n",
       "            <td>348672</td>\n",
       "            <td>8350</td>\n",
       "            <td>80854408</td>\n",
       "            <td>0.17</td>\n",
       "            <td>8.47</td>\n",
       "            <td>11.42</td>\n",
       "            <td>1.24</td>\n",
       "        </tr>\n",
       "        <tr>\n",
       "            <td>80</td>\n",
       "            <td>iz</td>\n",
       "            <td>Iraq</td>\n",
       "            <td>438317</td>\n",
       "            <td>437367</td>\n",
       "            <td>950</td>\n",
       "            <td>37056169</td>\n",
       "            <td>2.93</td>\n",
       "            <td>31.45</td>\n",
       "            <td>3.77</td>\n",
       "            <td>1.62</td>\n",
       "        </tr>\n",
       "        <tr>\n",
       "            <td>83</td>\n",
       "            <td>it</td>\n",
       "            <td>Italy</td>\n",
       "            <td>301340</td>\n",
       "            <td>294140</td>\n",
       "            <td>7200</td>\n",
       "            <td>61855120</td>\n",
       "            <td>0.27</td>\n",
       "            <td>8.74</td>\n",
       "            <td>10.19</td>\n",
       "            <td>4.1</td>\n",
       "        </tr>\n",
       "        <tr>\n",
       "            <td>85</td>\n",
       "            <td>ja</td>\n",
       "            <td>Japan</td>\n",
       "            <td>377915</td>\n",
       "            <td>364485</td>\n",
       "            <td>13430</td>\n",
       "            <td>126919659</td>\n",
       "            <td>0.16</td>\n",
       "            <td>7.93</td>\n",
       "            <td>9.51</td>\n",
       "            <td>0.0</td>\n",
       "        </tr>\n",
       "        <tr>\n",
       "            <td>91</td>\n",
       "            <td>ks</td>\n",
       "            <td>Korea, South</td>\n",
       "            <td>99720</td>\n",
       "            <td>96920</td>\n",
       "            <td>2800</td>\n",
       "            <td>49115196</td>\n",
       "            <td>0.14</td>\n",
       "            <td>8.19</td>\n",
       "            <td>6.75</td>\n",
       "            <td>0.0</td>\n",
       "        </tr>\n",
       "        <tr>\n",
       "            <td>120</td>\n",
       "            <td>mo</td>\n",
       "            <td>Morocco</td>\n",
       "            <td>446550</td>\n",
       "            <td>446300</td>\n",
       "            <td>250</td>\n",
       "            <td>33322699</td>\n",
       "            <td>1.0</td>\n",
       "            <td>18.2</td>\n",
       "            <td>4.81</td>\n",
       "            <td>3.36</td>\n",
       "        </tr>\n",
       "        <tr>\n",
       "            <td>138</td>\n",
       "            <td>rp</td>\n",
       "            <td>Philippines</td>\n",
       "            <td>300000</td>\n",
       "            <td>298170</td>\n",
       "            <td>1830</td>\n",
       "            <td>100998376</td>\n",
       "            <td>1.61</td>\n",
       "            <td>24.27</td>\n",
       "            <td>6.11</td>\n",
       "            <td>2.09</td>\n",
       "        </tr>\n",
       "        <tr>\n",
       "            <td>139</td>\n",
       "            <td>pl</td>\n",
       "            <td>Poland</td>\n",
       "            <td>312685</td>\n",
       "            <td>304255</td>\n",
       "            <td>8430</td>\n",
       "            <td>38562189</td>\n",
       "            <td>0.09</td>\n",
       "            <td>9.74</td>\n",
       "            <td>10.19</td>\n",
       "            <td>0.46</td>\n",
       "        </tr>\n",
       "        <tr>\n",
       "            <td>163</td>\n",
       "            <td>sp</td>\n",
       "            <td>Spain</td>\n",
       "            <td>505370</td>\n",
       "            <td>498980</td>\n",
       "            <td>6390</td>\n",
       "            <td>48146134</td>\n",
       "            <td>0.89</td>\n",
       "            <td>9.64</td>\n",
       "            <td>9.04</td>\n",
       "            <td>8.31</td>\n",
       "        </tr>\n",
       "        <tr>\n",
       "            <td>173</td>\n",
       "            <td>th</td>\n",
       "            <td>Thailand</td>\n",
       "            <td>513120</td>\n",
       "            <td>510890</td>\n",
       "            <td>2230</td>\n",
       "            <td>67976405</td>\n",
       "            <td>0.34</td>\n",
       "            <td>11.19</td>\n",
       "            <td>7.8</td>\n",
       "            <td>0.0</td>\n",
       "        </tr>\n",
       "        <tr>\n",
       "            <td>182</td>\n",
       "            <td>ug</td>\n",
       "            <td>Uganda</td>\n",
       "            <td>241038</td>\n",
       "            <td>197100</td>\n",
       "            <td>43938</td>\n",
       "            <td>37101745</td>\n",
       "            <td>3.24</td>\n",
       "            <td>43.79</td>\n",
       "            <td>10.69</td>\n",
       "            <td>0.74</td>\n",
       "        </tr>\n",
       "        <tr>\n",
       "            <td>185</td>\n",
       "            <td>uk</td>\n",
       "            <td>United Kingdom</td>\n",
       "            <td>243610</td>\n",
       "            <td>241930</td>\n",
       "            <td>1680</td>\n",
       "            <td>64088222</td>\n",
       "            <td>0.54</td>\n",
       "            <td>12.17</td>\n",
       "            <td>9.35</td>\n",
       "            <td>2.54</td>\n",
       "        </tr>\n",
       "        <tr>\n",
       "            <td>192</td>\n",
       "            <td>vm</td>\n",
       "            <td>Vietnam</td>\n",
       "            <td>331210</td>\n",
       "            <td>310070</td>\n",
       "            <td>21140</td>\n",
       "            <td>94348835</td>\n",
       "            <td>0.97</td>\n",
       "            <td>15.96</td>\n",
       "            <td>5.93</td>\n",
       "            <td>0.3</td>\n",
       "        </tr>\n",
       "    </tbody>\n",
       "</table>"
      ],
      "text/plain": [
       "[(14, 'bg', 'Bangladesh', 148460, 130170, 18290, 168957745, 1.6, 21.14, 5.61, 0.46),\n",
       " (65, 'gm', 'Germany', 357022, 348672, 8350, 80854408, 0.17, 8.47, 11.42, 1.24),\n",
       " (80, 'iz', 'Iraq', 438317, 437367, 950, 37056169, 2.93, 31.45, 3.77, 1.62),\n",
       " (83, 'it', 'Italy', 301340, 294140, 7200, 61855120, 0.27, 8.74, 10.19, 4.1),\n",
       " (85, 'ja', 'Japan', 377915, 364485, 13430, 126919659, 0.16, 7.93, 9.51, 0.0),\n",
       " (91, 'ks', 'Korea, South', 99720, 96920, 2800, 49115196, 0.14, 8.19, 6.75, 0.0),\n",
       " (120, 'mo', 'Morocco', 446550, 446300, 250, 33322699, 1.0, 18.2, 4.81, 3.36),\n",
       " (138, 'rp', 'Philippines', 300000, 298170, 1830, 100998376, 1.61, 24.27, 6.11, 2.09),\n",
       " (139, 'pl', 'Poland', 312685, 304255, 8430, 38562189, 0.09, 9.74, 10.19, 0.46),\n",
       " (163, 'sp', 'Spain', 505370, 498980, 6390, 48146134, 0.89, 9.64, 9.04, 8.31),\n",
       " (173, 'th', 'Thailand', 513120, 510890, 2230, 67976405, 0.34, 11.19, 7.8, 0.0),\n",
       " (182, 'ug', 'Uganda', 241038, 197100, 43938, 37101745, 3.24, 43.79, 10.69, 0.74),\n",
       " (185, 'uk', 'United Kingdom', 243610, 241930, 1680, 64088222, 0.54, 12.17, 9.35, 2.54),\n",
       " (192, 'vm', 'Vietnam', 331210, 310070, 21140, 94348835, 0.97, 15.96, 5.93, 0.3)]"
      ]
     },
     "execution_count": 16,
     "metadata": {},
     "output_type": "execute_result"
    }
   ],
   "source": [
    "%%sql\n",
    "SELECT *\n",
    "  FROM facts\n",
    " WHERE population > (SELECT AVG(population)\n",
    "                       FROM facts\n",
    "                      WHERE name <> 'World'\n",
    "                    )\n",
    "   AND area < (SELECT AVG(area)\n",
    "                 FROM facts\n",
    "                WHERE name <> 'World'\n",
    ");"
   ]
  },
  {
   "cell_type": "markdown",
   "metadata": {},
   "source": [
    "## Population Density Ratio\n",
    "\n",
    "Top 10 countries with the highest population density ratio listed in descending order."
   ]
  },
  {
   "cell_type": "code",
   "execution_count": 17,
   "metadata": {},
   "outputs": [
    {
     "name": "stdout",
     "output_type": "stream",
     "text": [
      " * sqlite:///factbook.db\n",
      "Done.\n"
     ]
    },
    {
     "data": {
      "text/html": [
       "<table>\n",
       "    <thead>\n",
       "        <tr>\n",
       "            <th>name</th>\n",
       "            <th>population_density_ratio</th>\n",
       "        </tr>\n",
       "    </thead>\n",
       "    <tbody>\n",
       "        <tr>\n",
       "            <td>Macau</td>\n",
       "            <td>21168.96</td>\n",
       "        </tr>\n",
       "        <tr>\n",
       "            <td>Monaco</td>\n",
       "            <td>15267.5</td>\n",
       "        </tr>\n",
       "        <tr>\n",
       "            <td>Singapore</td>\n",
       "            <td>8141.28</td>\n",
       "        </tr>\n",
       "        <tr>\n",
       "            <td>Hong Kong</td>\n",
       "            <td>6445.04</td>\n",
       "        </tr>\n",
       "        <tr>\n",
       "            <td>Gaza Strip</td>\n",
       "            <td>5191.82</td>\n",
       "        </tr>\n",
       "        <tr>\n",
       "            <td>Gibraltar</td>\n",
       "            <td>4876.33</td>\n",
       "        </tr>\n",
       "        <tr>\n",
       "            <td>Bahrain</td>\n",
       "            <td>1771.86</td>\n",
       "        </tr>\n",
       "        <tr>\n",
       "            <td>Maldives</td>\n",
       "            <td>1319.64</td>\n",
       "        </tr>\n",
       "        <tr>\n",
       "            <td>Malta</td>\n",
       "            <td>1310.02</td>\n",
       "        </tr>\n",
       "        <tr>\n",
       "            <td>Bermuda</td>\n",
       "            <td>1299.93</td>\n",
       "        </tr>\n",
       "    </tbody>\n",
       "</table>"
      ],
      "text/plain": [
       "[('Macau', 21168.96),\n",
       " ('Monaco', 15267.5),\n",
       " ('Singapore', 8141.28),\n",
       " ('Hong Kong', 6445.04),\n",
       " ('Gaza Strip', 5191.82),\n",
       " ('Gibraltar', 4876.33),\n",
       " ('Bahrain', 1771.86),\n",
       " ('Maldives', 1319.64),\n",
       " ('Malta', 1310.02),\n",
       " ('Bermuda', 1299.93)]"
      ]
     },
     "execution_count": 17,
     "metadata": {},
     "output_type": "execute_result"
    }
   ],
   "source": [
    "%%sql\n",
    "\n",
    "SELECT name, ROUND(CAST(population as Float) / CAST(area as Float), 2) as population_density_ratio\n",
    "    FROM facts\n",
    "    WHERE name <> 'World'\n",
    "    ORDER BY population_density_ratio DESC\n",
    "    LIMIT 10;"
   ]
  },
  {
   "cell_type": "code",
   "execution_count": null,
   "metadata": {},
   "outputs": [],
   "source": []
  }
 ],
 "metadata": {
  "kernelspec": {
   "display_name": "Python 3 (ipykernel)",
   "language": "python",
   "name": "python3"
  },
  "language_info": {
   "codemirror_mode": {
    "name": "ipython",
    "version": 3
   },
   "file_extension": ".py",
   "mimetype": "text/x-python",
   "name": "python",
   "nbconvert_exporter": "python",
   "pygments_lexer": "ipython3",
   "version": "3.9.12"
  }
 },
 "nbformat": 4,
 "nbformat_minor": 4
}
